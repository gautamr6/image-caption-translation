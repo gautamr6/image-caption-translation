{
 "cells": [
  {
   "cell_type": "code",
   "execution_count": 13,
   "metadata": {},
   "outputs": [],
   "source": [
    "import requests, uuid, json\n",
    "from decouple import config"
   ]
  },
  {
   "cell_type": "code",
   "execution_count": 14,
   "metadata": {},
   "outputs": [],
   "source": [
    "# Add your subscription key and endpoint\n",
    "subscription_key = config('KEY')\n",
    "endpoint = \"https://api.cognitive.microsofttranslator.com\"\n",
    "\n",
    "# Add your location, also known as region. The default is global.\n",
    "# This is required if using a Cognitive Services resource.\n",
    "location = config('LOCATION')\n",
    "\n",
    "path = '/translate'\n",
    "constructed_url = endpoint + path\n",
    "\n",
    "params = {\n",
    "    'api-version': '3.0',\n",
    "    'from': 'es',\n",
    "    'to': 'en'\n",
    "}\n",
    "constructed_url = endpoint + path\n",
    "\n",
    "headers = {\n",
    "    'Ocp-Apim-Subscription-Key': subscription_key,\n",
    "    'Ocp-Apim-Subscription-Region': location,\n",
    "    'Content-type': 'application/json',\n",
    "    'X-ClientTraceId': str(uuid.uuid4())\n",
    "}"
   ]
  },
  {
   "cell_type": "code",
   "execution_count": 15,
   "metadata": {},
   "outputs": [],
   "source": [
    "spanishFile = open(\"en-es/reference.final.file-found\")\n",
    "body = []\n",
    "\n",
    "for line in spanishFile:\n",
    "    body.append({'text': line[:-1]})"
   ]
  },
  {
   "cell_type": "code",
   "execution_count": 111,
   "metadata": {},
   "outputs": [
    {
     "name": "stdout",
     "output_type": "stream",
     "text": [
      "27367\n",
      "{'text': 'tienda Ética Brasil brokers , en la calle Barão de Mesquita , en Tijuca , en Río de Janeiro , Brasil .'}\n"
     ]
    }
   ],
   "source": [
    "print(len(body))\n",
    "print(body[27350])"
   ]
  },
  {
   "cell_type": "code",
   "execution_count": 113,
   "metadata": {},
   "outputs": [],
   "source": [
    "translationFile = open(\"machine-translations/azure.txt\", \"a\")"
   ]
  },
  {
   "cell_type": "code",
   "execution_count": 107,
   "metadata": {},
   "outputs": [],
   "source": [
    "bodySubset = body[27350:]\n",
    "request = requests.post(constructed_url, params=params, headers=headers, json=bodySubset)\n",
    "response = request.json()"
   ]
  },
  {
   "cell_type": "code",
   "execution_count": 103,
   "metadata": {},
   "outputs": [],
   "source": [
    "for i in range(20670, 27327, 40):\n",
    "    bodySubset = body[i:(i+40)]\n",
    "    request = requests.post(constructed_url, params=params, headers=headers, json=bodySubset)\n",
    "    response = request.json()\n",
    "    \n",
    "    if 'error' in response:\n",
    "        print(i)\n",
    "        break\n",
    "    \n",
    "    for item in response:\n",
    "        translationFile.write(item[\"translations\"][0][\"text\"] + \"\\n\")\n",
    "\n",
    "translationFile.close()"
   ]
  },
  {
   "cell_type": "code",
   "execution_count": 99,
   "metadata": {},
   "outputs": [
    {
     "name": "stdout",
     "output_type": "stream",
     "text": [
      "{'error': {'code': 429001, 'message': 'The server rejected the request because the client has exceeded request limits.'}}\n"
     ]
    }
   ],
   "source": [
    "print(response)"
   ]
  },
  {
   "cell_type": "code",
   "execution_count": 1,
   "metadata": {},
   "outputs": [
    {
     "name": "stdout",
     "output_type": "stream",
     "text": [
      "27367\n"
     ]
    }
   ],
   "source": [
    "transReadFile = open(\"machine-translations/azure.txt\")\n",
    "count = 0\n",
    "\n",
    "for li in transReadFile:\n",
    "    count += 1\n",
    "\n",
    "print(count)\n",
    "transReadFile.close()"
   ]
  },
  {
   "cell_type": "code",
   "execution_count": null,
   "metadata": {},
   "outputs": [],
   "source": []
  }
 ],
 "metadata": {
  "kernelspec": {
   "display_name": "Python 3",
   "language": "python",
   "name": "python3"
  },
  "language_info": {
   "codemirror_mode": {
    "name": "ipython",
    "version": 3
   },
   "file_extension": ".py",
   "mimetype": "text/x-python",
   "name": "python",
   "nbconvert_exporter": "python",
   "pygments_lexer": "ipython3",
   "version": "3.7.3"
  }
 },
 "nbformat": 4,
 "nbformat_minor": 4
}
