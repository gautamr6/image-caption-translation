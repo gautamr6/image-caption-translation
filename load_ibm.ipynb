{
 "cells": [
  {
   "cell_type": "code",
   "execution_count": 7,
   "metadata": {},
   "outputs": [],
   "source": [
    "import requests, uuid, json\n",
    "from ibm_watson import LanguageTranslatorV3\n",
    "from ibm_cloud_sdk_core.authenticators import IAMAuthenticator"
   ]
  },
  {
   "cell_type": "code",
   "execution_count": 8,
   "metadata": {},
   "outputs": [],
   "source": [
    "authenticator = IAMAuthenticator('Z7HR0iSObINjRK6aGC0SscpuVuxpHMTQEbZHhtcy9pf8')\n",
    "language_translator = LanguageTranslatorV3(\n",
    "    version='2018-05-01',\n",
    "    authenticator=authenticator\n",
    ")\n",
    "language_translator.set_service_url('https://api.us-south.language-translator.watson.cloud.ibm.com/instances/aca95f36-8d42-456d-9959-1b5b35d60f7b')"
   ]
  },
  {
   "cell_type": "code",
   "execution_count": 9,
   "metadata": {},
   "outputs": [],
   "source": [
    "spanishFile = open(\"en-es/reference.final.file-found\")\n",
    "body = []\n",
    "\n",
    "for line in spanishFile:\n",
    "    body.append(line[:-1])"
   ]
  },
  {
   "cell_type": "code",
   "execution_count": 20,
   "metadata": {},
   "outputs": [
    {
     "name": "stdout",
     "output_type": "stream",
     "text": [
      "espada de Éowyn\n"
     ]
    }
   ],
   "source": [
    "print(body[27349])"
   ]
  },
  {
   "cell_type": "code",
   "execution_count": 21,
   "metadata": {},
   "outputs": [],
   "source": [
    "translationFile = open(\"machine-translations/ibm.txt\", \"a\")"
   ]
  },
  {
   "cell_type": "code",
   "execution_count": 18,
   "metadata": {},
   "outputs": [],
   "source": [
    "for i in range(50, 27317, 50):\n",
    "    bodySubset = body[i:(i+50)]\n",
    "    translation = language_translator.translate(\n",
    "        text=bodySubset,\n",
    "        model_id='es-en').get_result()\n",
    "    \n",
    "    for item in translation[\"translations\"]:\n",
    "        translationFile.write(item[\"translation\"] + \"\\n\")\n",
    "\n",
    "translationFile.close()"
   ]
  },
  {
   "cell_type": "code",
   "execution_count": 22,
   "metadata": {},
   "outputs": [],
   "source": [
    "bodySubset = body[27350:]\n",
    "translation = language_translator.translate(\n",
    "    text=bodySubset,\n",
    "    model_id='es-en').get_result()\n",
    "    \n",
    "for item in translation[\"translations\"]:\n",
    "    translationFile.write(item[\"translation\"] + \"\\n\")\n",
    "\n",
    "translationFile.close()"
   ]
  },
  {
   "cell_type": "code",
   "execution_count": 19,
   "metadata": {},
   "outputs": [
    {
     "name": "stdout",
     "output_type": "stream",
     "text": [
      "27350\n"
     ]
    }
   ],
   "source": [
    "translationFile = open(\"machine-translations/ibm.txt\")\n",
    "count = 0\n",
    "\n",
    "for line in translationFile:\n",
    "    count += 1\n",
    "\n",
    "print(count)"
   ]
  },
  {
   "cell_type": "code",
   "execution_count": 16,
   "metadata": {},
   "outputs": [
    {
     "name": "stdout",
     "output_type": "stream",
     "text": [
      "estatua del Fiestero , parque de Málaga , España\n"
     ]
    }
   ],
   "source": [
    "print(body[49])"
   ]
  },
  {
   "cell_type": "code",
   "execution_count": 6,
   "metadata": {},
   "outputs": [
    {
     "name": "stdout",
     "output_type": "stream",
     "text": [
      "Hello, I call me John.\n",
      "Goodbye!\n"
     ]
    }
   ],
   "source": [
    "translation = language_translator.translate(\n",
    "    text=['Hola, me llamo Juan.', 'Adios!'],\n",
    "    model_id='es-en').get_result()\n",
    "\n",
    "print(translation[\"translations\"][0][\"translation\"])\n",
    "print(translation[\"translations\"][1][\"translation\"])"
   ]
  }
 ],
 "metadata": {
  "kernelspec": {
   "display_name": "Python 3",
   "language": "python",
   "name": "python3"
  },
  "language_info": {
   "codemirror_mode": {
    "name": "ipython",
    "version": 3
   },
   "file_extension": ".py",
   "mimetype": "text/x-python",
   "name": "python",
   "nbconvert_exporter": "python",
   "pygments_lexer": "ipython3",
   "version": "3.7.3"
  }
 },
 "nbformat": 4,
 "nbformat_minor": 4
}
